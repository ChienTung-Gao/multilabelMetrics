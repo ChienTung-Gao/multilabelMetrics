{
 "cells": [
  {
   "cell_type": "code",
   "execution_count": 1,
   "metadata": {},
   "outputs": [
    {
     "name": "stdout",
     "output_type": "stream",
     "text": [
      "scene:undivided - exists, not redownloading\n"
     ]
    }
   ],
   "source": [
    "from skmultilearn.dataset import load_dataset\n",
    "from skmultilearn.model_selection import iterative_train_test_split\n",
    "X,y, _, _ = load_dataset('scene', 'undivided')"
   ]
  },
  {
   "cell_type": "markdown",
   "metadata": {},
   "source": [
    "## Once we have our dataset, we will split it into train and test, use a model as MLkNN and check out metrics"
   ]
  },
  {
   "cell_type": "code",
   "execution_count": 2,
   "metadata": {},
   "outputs": [],
   "source": [
    "from skmultilearn.adapt import MLkNN\n",
    "\n",
    "X_train, y_train, X_test, y_test = iterative_train_test_split(X, y, test_size = 0.5)\n",
    "classifier = MLkNN()\n",
    "classifier.fit(X_train, y_train)\n",
    "predictions = classifier.predict(X_test)"
   ]
  },
  {
   "cell_type": "markdown",
   "metadata": {},
   "source": [
    "## Now that we have the predictions we will use the metrics to check them"
   ]
  },
  {
   "cell_type": "code",
   "execution_count": 3,
   "metadata": {},
   "outputs": [
    {
     "name": "stdout",
     "output_type": "stream",
     "text": [
      "Subset Accuracy: 0.608803986711\n",
      "Hamming Loss: 0.0923311184939\n",
      "Accuracy: 0.657530454042\n",
      "Precision: 0.683139534884\n",
      "Recall: 0.680647840532\n",
      "FBeta: 0.681891411495\n"
     ]
    }
   ],
   "source": [
    "from multilabelMetrics.examplebasedclassification import subsetAccuracy, hammingLoss, accuracy, precision, recall, fbeta\n",
    "print \"Subset Accuracy: \" + str(subsetAccuracy(y_test, predictions))\n",
    "print \"Hamming Loss: \" + str(hammingLoss(y_test, predictions))\n",
    "print \"Accuracy: \" + str(accuracy(y_test, predictions))\n",
    "print \"Precision: \" + str(precision(y_test, predictions))\n",
    "print \"Recall: \" + str(recall(y_test, predictions))\n",
    "print \"FBeta: \" + str(fbeta(y_test, predictions, beta=1))"
   ]
  },
  {
   "cell_type": "code",
   "execution_count": 4,
   "metadata": {},
   "outputs": [
    {
     "name": "stdout",
     "output_type": "stream",
     "text": [
      "One Error: 0.822259136213\n",
      "Coverage: 2.66528239203\n",
      "Average Precision: 0.40849252491694155\n",
      "Ranking Loss: 0.105980066445\n"
     ]
    }
   ],
   "source": [
    "from multilabelMetrics.examplebasedranking import oneError, coverage, averagePrecision, rankingLoss\n",
    "probabilities = classifier.predict_proba(X_test)\n",
    "probabilities = probabilities.todense()\n",
    "print \"One Error: \" + str(oneError(y_test, probabilities))\n",
    "print \"Coverage: \" + str(coverage(y_test, probabilities))\n",
    "print \"Average Precision: \" + str(averagePrecision(y_test, probabilities))\n",
    "print \"Ranking Loss: \" + str(rankingLoss(y_test, probabilities))"
   ]
  },
  {
   "cell_type": "code",
   "execution_count": 5,
   "metadata": {},
   "outputs": [
    {
     "name": "stdout",
     "output_type": "stream",
     "text": [
      "Accuracy Macro: 0.907668881506\n",
      "Accuracy Micro: 0.907668881506\n",
      "Precision Macro: 0.678111609014\n",
      "Precision Micro: 0.662799690642\n",
      "Recall Macro: 0.7855704350577476\n",
      "Recall Micro: 0.787683823529\n",
      "FBeta Macro: 0.724953212\n",
      "FBeta Micro: 0.719865602688\n"
     ]
    }
   ],
   "source": [
    "from multilabelMetrics.labelbasedclassification import accuracyMacro, accuracyMicro, precisionMacro, precisionMicro, recallMacro, recallMicro, fbetaMacro, fbetaMicro\n",
    "#Print the measures\n",
    "print \"Accuracy Macro: \" + str(accuracyMacro(y_test, predictions))\n",
    "print \"Accuracy Micro: \" + str(accuracyMicro(y_test, predictions))\n",
    "print \"Precision Macro: \" + str(precisionMacro(y_test, predictions))\n",
    "print \"Precision Micro: \" + str(precisionMicro(y_test, predictions))\n",
    "print \"Recall Macro: \" + str(recallMacro(y_test, predictions))\n",
    "print \"Recall Micro: \" + str(recallMicro(y_test, predictions))\n",
    "print \"FBeta Macro: \" + str(fbetaMacro(y_test, predictions, beta=1))\n",
    "print \"FBeta Micro: \" + str(fbetaMicro(y_test, predictions, beta=1))"
   ]
  },
  {
   "cell_type": "code",
   "execution_count": null,
   "metadata": {},
   "outputs": [],
   "source": []
  }
 ],
 "metadata": {
  "kernelspec": {
   "display_name": "Python 2",
   "language": "python",
   "name": "python2"
  },
  "language_info": {
   "codemirror_mode": {
    "name": "ipython",
    "version": 2
   },
   "file_extension": ".py",
   "mimetype": "text/x-python",
   "name": "python",
   "nbconvert_exporter": "python",
   "pygments_lexer": "ipython2",
   "version": "2.7.14"
  }
 },
 "nbformat": 4,
 "nbformat_minor": 2
}
